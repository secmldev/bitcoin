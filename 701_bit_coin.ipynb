{
 "cells": [
  {
   "cell_type": "markdown",
   "id": "39d5e02b",
   "metadata": {},
   "source": [
    "### BitCoin Project\n",
    "\n",
    "- Read bitcoin price data\n",
    "    - Read from csv\n",
    "    - Read from yahoo finance\n",
    "    - Read from data base\n",
    "- Transforma the data in such a format so that the existing macd, roc, rsi, bb, stochastic indicator calculation and signal generation method can be applied\n",
    "- Get indicator values\n",
    "- Generate signal\n",
    "- plot the signal and indicator value\n",
    "- portfolio of bitcoin trading\n",
    "- Develop backtesting strategy for bitoin"
   ]
  },
  {
   "cell_type": "markdown",
   "id": "4dd0e6fd",
   "metadata": {},
   "source": [
    "[Bitcoin](https://finance.yahoo.com/crypto/)"
   ]
  },
  {
   "cell_type": "markdown",
   "id": "8ccf7ef8",
   "metadata": {},
   "source": [
    "- Initial data analysis for bitcoin\n",
    "[Bitcoin USD (BTC-USD)](https://finance.yahoo.com/quote/BTC-USD?p=BTC-USD)"
   ]
  },
  {
   "cell_type": "markdown",
   "id": "f1c10c0a",
   "metadata": {},
   "source": [
    "[Python Anywhere by Anaconda](https://www.pythonanywhere.com/)"
   ]
  },
  {
   "cell_type": "markdown",
   "id": "9af14ba5",
   "metadata": {},
   "source": [
    "#### What Is Bitcoin?\n",
    "\n",
    "    Bitcoin is a decentralized digital currency created in January 2009. \n",
    "    It follows the ideas set out in a white paper by the mysterious and pseudonymous Satoshi Nakamoto.\n",
    "    Bitcoin offers the promise of lower transaction fees than traditional online payment mechanisms do. \n",
    "    unlike government issued currencies, it is operated by a decentralized authority.\n",
    "    Bitcoin is built on a distributed digital record called a blockchain.\n",
    "    Bitcoin trading is how you can speculate on movements in the cryptocurrency’s price.\n",
    "    \n",
    "    \n",
    "#### Bitcoin supply. \n",
    "    The current bitcoin supply is capped at 21 million, which is expected to be exhausted by 2140. A finite supply means that the price of bitcoin could increase if demand rises in the coming years\n",
    "#### Bad press. \n",
    "    Any breaking news which concerns bitcoin’s security, value and longevity will have a negative effect on the coin’s overall market price\n",
    "#### Integration\n",
    "    Bitcoin’s public profile depends on its integration into new payment systems and banking frameworks. If this is carried out successfully, demand might rise which will have a positive effect on bitcoin’s price\n",
    "#### Key events\n",
    "    Regulation changes, security breaches and macroeconomic bitcoin announcements can all affect prices. Any agreement between users on how to speed the network up could also see confidence in bitcoin rise – pushing the price up\n"
   ]
  },
  {
   "cell_type": "code",
   "execution_count": null,
   "id": "b8df7e75",
   "metadata": {},
   "outputs": [],
   "source": []
  }
 ],
 "metadata": {
  "kernelspec": {
   "display_name": "Python 3 (ipykernel)",
   "language": "python",
   "name": "python3"
  },
  "language_info": {
   "codemirror_mode": {
    "name": "ipython",
    "version": 3
   },
   "file_extension": ".py",
   "mimetype": "text/x-python",
   "name": "python",
   "nbconvert_exporter": "python",
   "pygments_lexer": "ipython3",
   "version": "3.9.7"
  }
 },
 "nbformat": 4,
 "nbformat_minor": 5
}
