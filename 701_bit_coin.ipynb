{
 "cells": [
  {
   "cell_type": "markdown",
   "id": "39d5e02b",
   "metadata": {},
   "source": [
    "### BitCoin Project :-\n",
    "\n",
    "- Read bitcoin price data\n",
    "- translate the data in such a format so that the existing macd, roc, rsi, bb get signal method work with that\n",
    "    - roc (minimum)\n",
    "- get price, signal\n",
    "- plot\n",
    "- portfolio of bitcoin trading\n",
    "- in the form of class, like random signal generation, complete backtesting\n",
    "- create own module for this"
   ]
  },
  {
   "cell_type": "markdown",
   "id": "25ddb8bd",
   "metadata": {},
   "source": [
    "#### What Is Bitcoin?\n",
    "    Bitcoin is a decentralized digital currency created in January 2009. \n",
    "    It follows the ideas set out in a white paper by the mysterious and pseudonymous Satoshi Nakamoto.\n",
    "    Bitcoin offers the promise of lower transaction fees than traditional online payment mechanisms do. \n",
    "    unlike government issued currencies, it is operated by a decentralized authority.\n",
    "    Bitcoin is built on a distributed digital record called a blockchain.\n",
    "    Bitcoin trading is how you can speculate on movements in the cryptocurrency’s price.\n",
    "    \n",
    "    \n",
    "#### Bitcoin supply. \n",
    "    The current bitcoin supply is capped at 21 million, which is expected to be exhausted by 2140. A finite supply means that the price of bitcoin could increase if demand rises in the coming years\n",
    "#### Bad press. \n",
    "    Any breaking news which concerns bitcoin’s security, value and longevity will have a negative effect on the coin’s overall market price\n",
    "#### Integration\n",
    "    Bitcoin’s public profile depends on its integration into new payment systems and banking frameworks. If this is carried out successfully, demand might rise which will have a positive effect on bitcoin’s price\n",
    "#### Key events\n",
    "    Regulation changes, security breaches and macroeconomic bitcoin announcements can all affect prices. Any agreement between users on how to speed the network up could also see confidence in bitcoin rise – pushing the price up\n"
   ]
  },
  {
   "cell_type": "markdown",
   "id": "80781db5",
   "metadata": {},
   "source": [
    "for getting the crypto prices\n",
    "https://finance.yahoo.com/cryptocurrencies/"
   ]
  },
  {
   "cell_type": "code",
   "execution_count": null,
   "id": "b8df7e75",
   "metadata": {},
   "outputs": [],
   "source": []
  }
 ],
 "metadata": {
  "kernelspec": {
   "display_name": "Python 3 (ipykernel)",
   "language": "python",
   "name": "python3"
  },
  "language_info": {
   "codemirror_mode": {
    "name": "ipython",
    "version": 3
   },
   "file_extension": ".py",
   "mimetype": "text/x-python",
   "name": "python",
   "nbconvert_exporter": "python",
   "pygments_lexer": "ipython3",
   "version": "3.9.7"
  }
 },
 "nbformat": 4,
 "nbformat_minor": 5
}
